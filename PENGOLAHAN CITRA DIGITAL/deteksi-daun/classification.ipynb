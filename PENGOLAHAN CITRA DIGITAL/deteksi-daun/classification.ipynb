{
 "cells": [
  {
   "cell_type": "markdown",
   "metadata": {},
   "source": [
    "# Explore Data Anlysis"
   ]
  },
  {
   "cell_type": "code",
   "execution_count": 6,
   "metadata": {},
   "outputs": [
    {
     "name": "stdout",
     "output_type": "stream",
     "text": [
      "['ganja', 'jarak_yodium', 'pepaya', 'singkong']\n"
     ]
    }
   ],
   "source": [
    "import warnings\n",
    "import os\n",
    "warnings.filterwarnings('ignore')\n",
    "# get all the paths\n",
    "data_dir_list = os.listdir('dataset')\n",
    "print(data_dir_list)\n",
    "path, dirs, files = next(os.walk(\"dataset\"))\n",
    "file_count = len(files)\n",
    "# print(file_count)"
   ]
  },
  {
   "cell_type": "code",
   "execution_count": 52,
   "metadata": {},
   "outputs": [],
   "source": [
    "# make new base directory\n",
    "original_dataset_dir = 'dataset'\n",
    "base_dir = 'leaves-data'\n",
    "os.mkdir(base_dir)"
   ]
  },
  {
   "cell_type": "code",
   "execution_count": 4,
   "metadata": {},
   "outputs": [],
   "source": [
    "train_dir = os.path.join(base_dir, 'train')\n",
    "validation_dir = os.path.join(base_dir, 'val')"
   ]
  },
  {
   "cell_type": "code",
   "execution_count": 53,
   "metadata": {},
   "outputs": [],
   "source": [
    "# create two folders in base_dir train and val\n",
    "train_dir = os.path.join(base_dir, 'train')\n",
    "os.mkdir(train_dir)\n",
    "validation_dir = os.path.join(base_dir, 'validation')\n",
    "os.mkdir(validation_dir)\n",
    "\n",
    "# under train folder create 4 folder (ganja, singkong, pepaya, jarak_yodium)\n",
    "train_ganja_dir = os.path.join(train_dir, 'ganja')\n",
    "os.mkdir(train_ganja_dir)\n",
    "train_singkong_dir = os.path.join(train_dir, 'singkong')\n",
    "os.mkdir(train_singkong_dir)\n",
    "train_pepaya_dir = os.path.join(train_dir, 'pepaya')\n",
    "os.mkdir(train_pepaya_dir)\n",
    "train_jarak_yodium_dir = os.path.join(train_dir, 'jarak_yodium')\n",
    "os.mkdir(train_jarak_yodium_dir)\n",
    "\n",
    "# under validation folder create 4 folder (ganja, singkong, pepaya, jarak_yodium)\n",
    "validation_ganja_dir = os.path.join(validation_dir, 'ganja')\n",
    "os.mkdir(validation_ganja_dir)\n",
    "validation_singkong_dir = os.path.join(validation_dir, 'singkong')\n",
    "os.mkdir(validation_singkong_dir)\n",
    "validation_pepaya_dir = os.path.join(validation_dir, 'pepaya')\n",
    "os.mkdir(validation_pepaya_dir)\n",
    "validation_jarak_yodium_dir = os.path.join(validation_dir, 'jarak_yodium')\n",
    "os.mkdir(validation_jarak_yodium_dir)"
   ]
  },
  {
   "cell_type": "code",
   "execution_count": 31,
   "metadata": {},
   "outputs": [],
   "source": [
    "def split_data(SOURCE, TRAINING, VALIDATION, SPLIT_SIZE):\n",
    "    files = []\n",
    "    for filename in os.listdir(SOURCE):\n",
    "        file = SOURCE + filename\n",
    "        if os.path.getsize(file) > 0:\n",
    "            files.append(filename)\n",
    "        else:\n",
    "            print(filename + \" is zero length, so ignoring.\")\n",
    "    \n",
    "    training_length = int(len(files) * SPLIT_SIZE)\n",
    "    valid_length = int(len(files) - training_length)\n",
    "    shuffled_set = random.sample(files, len(files))\n",
    "    training_set = shuffled_set[0:training_length]\n",
    "    valid_set = shuffled_set[:valid_length]\n",
    "    \n",
    "    for filename in training_set:\n",
    "        this_file = SOURCE + filename\n",
    "        destination = TRAINING + filename\n",
    "        copyfile(this_file, destination)\n",
    "    \n",
    "    for filename in valid_set:\n",
    "        this_file = SOURCE + filename\n",
    "        destination = VALIDATION + filename\n",
    "        copyfile(this_file, destination)"
   ]
  },
  {
   "cell_type": "code",
   "execution_count": 18,
   "metadata": {},
   "outputs": [],
   "source": [
    "GANJA_SOURCE_DIR = 'dataset/ganja/'\n",
    "TRAINING_GANJA_DIR = 'leaves-data/train/ganja/'\n",
    "VALID_GANJA_DIR = 'leaves-data/validation/ganja/'\n",
    "\n",
    "SINGKONG_SOURCE_DIR = 'dataset/singkong/'\n",
    "TRAINING_SINGKONG_DIR = 'leaves-data/train/singkong/'\n",
    "VALID_SINGKONG_DIR = 'leaves-data/validation/singkong/'\n",
    "\n",
    "PEPAYA_SOURCE_DIR = 'dataset/pepaya/'\n",
    "TRAINING_PEPAYA_DIR = 'leaves-data/train/pepaya/'\n",
    "VALID_PEPAYA_DIR = 'leaves-data/validation/pepaya/'\n",
    "\n",
    "JARAK_YODIUM_SOURCE_DIR = 'dataset/jarak_yodium/'\n",
    "TRAINING_JARAK_YODIUM_DIR = 'leaves-data/train/jarak_yodium/'\n",
    "VALID_JARAK_YODIUM_DIR = 'leaves-data/validation/jarak_yodium/'"
   ]
  },
  {
   "cell_type": "code",
   "execution_count": 54,
   "metadata": {},
   "outputs": [],
   "source": [
    "import os\n",
    "import random\n",
    "from shutil import copyfile\n",
    "\n",
    "split_size = 0.85\n",
    "\n",
    "split_data(GANJA_SOURCE_DIR, TRAINING_GANJA_DIR, VALID_GANJA_DIR, split_size)\n",
    "split_data(SINGKONG_SOURCE_DIR, TRAINING_SINGKONG_DIR, VALID_SINGKONG_DIR, split_size)\n",
    "split_data(PEPAYA_SOURCE_DIR, TRAINING_PEPAYA_DIR, VALID_PEPAYA_DIR, split_size)\n",
    "split_data(JARAK_YODIUM_SOURCE_DIR, TRAINING_JARAK_YODIUM_DIR, VALID_JARAK_YODIUM_DIR, split_size)"
   ]
  },
  {
   "cell_type": "code",
   "execution_count": 55,
   "metadata": {},
   "outputs": [
    {
     "data": {
      "image/png": "[encoded data removed]",
      "text/plain": [
       "<Figure size 648x432 with 1 Axes>"
      ]
     },
     "metadata": {
      "needs_background": "light"
     },
     "output_type": "display_data"
    }
   ],
   "source": [
    "import matplotlib.pyplot as plt\n",
    "import seaborn as sns\n",
    "from matplotlib.image import imread\n",
    "import pathlib\n",
    "\n",
    "image_folder = ['ganja', 'singkong', 'pepaya', 'jarak_yodium']\n",
    "nimgs = {}\n",
    "for i in image_folder:\n",
    "    nimages = len(os.listdir('leaves-data/train/' + i + '/'))\n",
    "    nimgs[i] = nimages\n",
    "plt.figure(figsize=(9, 6))\n",
    "plt.bar(range(len(nimgs)), list(nimgs.values()), align='center')\n",
    "plt.xticks(range(len(nimgs)), list(nimgs.keys()))\n",
    "plt.title('Distribution of different classes in Training dataset')\n",
    "plt.show()"
   ]
  },
  {
   "cell_type": "code",
   "execution_count": 56,
   "metadata": {},
   "outputs": [
    {
     "name": "stdout",
     "output_type": "stream",
     "text": [
      "Total images in ganja train folder: 25\n",
      "Total images in singkong train folder: 52\n",
      "Total images in pepaya train folder: 25\n",
      "Total images in jarak_yodium train folder: 10\n"
     ]
    }
   ],
   "source": [
    "for i in image_folder:\n",
    "    print('Total images in {} train folder: {}'.format(i, len(os.listdir('leaves-data/train/' + i + '/'))))"
   ]
  },
  {
   "cell_type": "code",
   "execution_count": 57,
   "metadata": {},
   "outputs": [
    {
     "data": {
      "image/png": "[encoded data removed]",
      "text/plain": [
       "<Figure size 648x432 with 1 Axes>"
      ]
     },
     "metadata": {
      "needs_background": "light"
     },
     "output_type": "display_data"
    }
   ],
   "source": [
    "nimgs = {}\n",
    "for i in image_folder:\n",
    "    nimages = len(os.listdir('leaves-data/validation/' + i + '/'))\n",
    "    nimgs[i] = nimages\n",
    "plt.figure(figsize=(9, 6))\n",
    "plt.bar(range(len(nimgs)), list(nimgs.values()), align='center')\n",
    "plt.xticks(range(len(nimgs)), list(nimgs.keys()))\n",
    "plt.title('Distribution of different classes in Validation dataset')\n",
    "plt.show()"
   ]
  },
  {
   "cell_type": "code",
   "execution_count": 58,
   "metadata": {},
   "outputs": [
    {
     "name": "stdout",
     "output_type": "stream",
     "text": [
      "Total images in ganja validation folder: 5\n",
      "Total images in singkong validation folder: 10\n",
      "Total images in pepaya validation folder: 5\n",
      "Total images in jarak_yodium validation folder: 2\n"
     ]
    }
   ],
   "source": [
    "for i in image_folder:\n",
    "    print('Total images in {} validation folder: {}'.format(i, len(os.listdir('leaves-data/validation/' + i + '/'))))"
   ]
  },
  {
   "cell_type": "markdown",
   "metadata": {},
   "source": [
    "# Deep Learning with Data Augmentation"
   ]
  },
  {
   "cell_type": "code",
   "execution_count": 39,
   "metadata": {},
   "outputs": [],
   "source": [
    "from tensorflow.keras.optimizers import Adam\n",
    "from tensorflow.keras.preprocessing.image import ImageDataGenerator\n",
    "from tensorflow.keras.models import Sequential\n",
    "from tensorflow.keras.layers import Conv2D, MaxPooling2D, Flatten, Dense, Dropout\n",
    "from tensorflow.keras.callbacks import EarlyStopping, ModelCheckpoint"
   ]
  },
  {
   "cell_type": "code",
   "execution_count": 40,
   "metadata": {},
   "outputs": [],
   "source": [
    "img_width, img_height = 256, 256\n",
    "batch_size = 16"
   ]
  },
  {
   "cell_type": "code",
   "execution_count": 59,
   "metadata": {},
   "outputs": [
    {
     "name": "stdout",
     "output_type": "stream",
     "text": [
      "Found 112 images belonging to 4 classes.\n"
     ]
    }
   ],
   "source": [
    "TRAINING_DIR = 'leaves-data/train/'\n",
    "\n",
    "train_datagen = ImageDataGenerator(rescale=1./255,\n",
    "                                    rotation_range=30,\n",
    "                                    zoom_range=0.4,\n",
    "                                    horizontal_flip=True)\n",
    "\n",
    "train_generator = train_datagen.flow_from_directory(TRAINING_DIR,\n",
    "                                                    batch_size=batch_size,\n",
    "                                                    class_mode='categorical',\n",
    "                                                    target_size=(img_width, img_height))"
   ]
  },
  {
   "cell_type": "code",
   "execution_count": 60,
   "metadata": {},
   "outputs": [
    {
     "name": "stdout",
     "output_type": "stream",
     "text": [
      "Found 22 images belonging to 4 classes.\n"
     ]
    }
   ],
   "source": [
    "VALIDATION_DIR = 'leaves-data/validation/'\n",
    "\n",
    "validation_datagen = ImageDataGenerator(rescale=1./255)\n",
    "\n",
    "validation_generator = validation_datagen.flow_from_directory(VALIDATION_DIR,\n",
    "                                                                batch_size=batch_size,\n",
    "                                                                class_mode='categorical',\n",
    "                                                                target_size=(img_width, img_height))"
   ]
  },
  {
   "cell_type": "code",
   "execution_count": 61,
   "metadata": {},
   "outputs": [],
   "source": [
    "callbacks = EarlyStopping(monitor='val_loss', patience=5, verbose=1, mode='auto')\n",
    "# autosave best model\n",
    "best_model_file = 'best_model.h5'\n",
    "best_model = ModelCheckpoint(best_model_file, monitor='val_acc', verbose = 1, save_best_only = True)"
   ]
  },
  {
   "cell_type": "code",
   "execution_count": 62,
   "metadata": {},
   "outputs": [
    {
     "name": "stdout",
     "output_type": "stream",
     "text": [
      "Model: \"sequential_4\"\n",
      "_________________________________________________________________\n",
      " Layer (type)                Output Shape              Param #   \n",
      "=================================================================\n",
      " conv2d_31 (Conv2D)          (None, 254, 254, 16)      448       \n",
      "                                                                 \n",
      " max_pooling2d_19 (MaxPoolin  (None, 127, 127, 16)     0         \n",
      " g2D)                                                            \n",
      "                                                                 \n",
      " conv2d_32 (Conv2D)          (None, 125, 125, 32)      4640      \n",
      "                                                                 \n",
      " max_pooling2d_20 (MaxPoolin  (None, 62, 62, 32)       0         \n",
      " g2D)                                                            \n",
      "                                                                 \n",
      " conv2d_33 (Conv2D)          (None, 60, 60, 64)        18496     \n",
      "                                                                 \n",
      " conv2d_34 (Conv2D)          (None, 58, 58, 64)        36928     \n",
      "                                                                 \n",
      " max_pooling2d_21 (MaxPoolin  (None, 29, 29, 64)       0         \n",
      " g2D)                                                            \n",
      "                                                                 \n",
      " conv2d_35 (Conv2D)          (None, 27, 27, 128)       73856     \n",
      "                                                                 \n",
      " conv2d_36 (Conv2D)          (None, 25, 25, 128)       147584    \n",
      "                                                                 \n",
      " max_pooling2d_22 (MaxPoolin  (None, 12, 12, 128)      0         \n",
      " g2D)                                                            \n",
      "                                                                 \n",
      " conv2d_37 (Conv2D)          (None, 10, 10, 256)       295168    \n",
      "                                                                 \n",
      " conv2d_38 (Conv2D)          (None, 8, 8, 256)         590080    \n",
      "                                                                 \n",
      " conv2d_39 (Conv2D)          (None, 6, 6, 256)         590080    \n",
      "                                                                 \n",
      " max_pooling2d_23 (MaxPoolin  (None, 3, 3, 256)        0         \n",
      " g2D)                                                            \n",
      "                                                                 \n",
      " flatten_4 (Flatten)         (None, 2304)              0         \n",
      "                                                                 \n",
      " dense_11 (Dense)            (None, 512)               1180160   \n",
      "                                                                 \n",
      " dense_12 (Dense)            (None, 512)               262656    \n",
      "                                                                 \n",
      " dense_13 (Dense)            (None, 4)                 2052      \n",
      "                                                                 \n",
      "=================================================================\n",
      "Total params: 3,202,148\n",
      "Trainable params: 3,202,148\n",
      "Non-trainable params: 0\n",
      "_________________________________________________________________\n"
     ]
    }
   ],
   "source": [
    "model = Sequential()\n",
    "model.add(Conv2D(16, (3, 3), activation='relu', input_shape=(img_width, img_height, 3)))\n",
    "model.add(MaxPooling2D(2, 2))\n",
    "model.add(Conv2D(32, (3, 3), activation='relu'))\n",
    "model.add(MaxPooling2D(2, 2))\n",
    "model.add(Conv2D(64, (3, 3), activation='relu'))\n",
    "model.add(Conv2D(64, (3, 3), activation='relu'))\n",
    "model.add(MaxPooling2D(2, 2))\n",
    "model.add(Conv2D(128, (3, 3), activation='relu'))\n",
    "model.add(Conv2D(128, (3, 3), activation='relu'))\n",
    "model.add(MaxPooling2D(2, 2))\n",
    "model.add(Conv2D(256, (3, 3), activation='relu'))\n",
    "model.add(Conv2D(256, (3, 3), activation='relu'))\n",
    "model.add(Conv2D(256, (3, 3), activation='relu'))\n",
    "model.add(MaxPooling2D(2, 2))\n",
    "model.add(Flatten())\n",
    "model.add(Dense(512, activation='relu'))\n",
    "model.add(Dense(512, activation='relu'))\n",
    "model.add(Dense(4, activation='softmax'))\n",
    "model.summary()"
   ]
  },
  {
   "cell_type": "code",
   "execution_count": 63,
   "metadata": {},
   "outputs": [],
   "source": [
    "model.compile(optimizer='Adam',\n",
    "                loss='categorical_crossentropy',\n",
    "                metrics=['accuracy'])"
   ]
  },
  {
   "cell_type": "code",
   "execution_count": 64,
   "metadata": {},
   "outputs": [
    {
     "name": "stdout",
     "output_type": "stream",
     "text": [
      "Epoch 1/30\n",
      "7/7 [==============================] - ETA: 0s - loss: 1.6663 - accuracy: 0.4375WARNING:tensorflow:Can save best model only with val_acc available, skipping.\n",
      "7/7 [==============================] - 27s 3s/step - loss: 1.6663 - accuracy: 0.4375 - val_loss: 1.3708 - val_accuracy: 0.4545\n",
      "Epoch 2/30\n",
      "7/7 [==============================] - ETA: 0s - loss: 1.2827 - accuracy: 0.4643WARNING:tensorflow:Can save best model only with val_acc available, skipping.\n",
      "7/7 [==============================] - 19s 3s/step - loss: 1.2827 - accuracy: 0.4643 - val_loss: 1.8445 - val_accuracy: 0.4545\n",
      "Epoch 3/30\n",
      "7/7 [==============================] - ETA: 0s - loss: 1.3906 - accuracy: 0.4643WARNING:tensorflow:Can save best model only with val_acc available, skipping.\n",
      "7/7 [==============================] - 18s 3s/step - loss: 1.3906 - accuracy: 0.4643 - val_loss: 1.3389 - val_accuracy: 0.4545\n",
      "Epoch 4/30\n",
      "7/7 [==============================] - ETA: 0s - loss: 1.3378 - accuracy: 0.4643WARNING:tensorflow:Can save best model only with val_acc available, skipping.\n",
      "7/7 [==============================] - 20s 3s/step - loss: 1.3378 - accuracy: 0.4643 - val_loss: 1.3324 - val_accuracy: 0.4545\n",
      "Epoch 5/30\n",
      "7/7 [==============================] - ETA: 0s - loss: 1.3250 - accuracy: 0.4643WARNING:tensorflow:Can save best model only with val_acc available, skipping.\n",
      "7/7 [==============================] - 18s 2s/step - loss: 1.3250 - accuracy: 0.4643 - val_loss: 1.2823 - val_accuracy: 0.4545\n",
      "Epoch 6/30\n",
      "7/7 [==============================] - ETA: 0s - loss: 1.2673 - accuracy: 0.4643WARNING:tensorflow:Can save best model only with val_acc available, skipping.\n",
      "7/7 [==============================] - 17s 2s/step - loss: 1.2673 - accuracy: 0.4643 - val_loss: 1.2459 - val_accuracy: 0.4545\n",
      "Epoch 7/30\n",
      "7/7 [==============================] - ETA: 0s - loss: 1.2567 - accuracy: 0.4643WARNING:tensorflow:Can save best model only with val_acc available, skipping.\n",
      "7/7 [==============================] - 18s 3s/step - loss: 1.2567 - accuracy: 0.4643 - val_loss: 1.2514 - val_accuracy: 0.4545\n",
      "Epoch 8/30\n",
      "7/7 [==============================] - ETA: 0s - loss: 1.2429 - accuracy: 0.4643WARNING:tensorflow:Can save best model only with val_acc available, skipping.\n",
      "7/7 [==============================] - 17s 2s/step - loss: 1.2429 - accuracy: 0.4643 - val_loss: 1.2441 - val_accuracy: 0.4545\n",
      "Epoch 9/30\n",
      "7/7 [==============================] - ETA: 0s - loss: 1.2589 - accuracy: 0.4643WARNING:tensorflow:Can save best model only with val_acc available, skipping.\n",
      "7/7 [==============================] - 17s 2s/step - loss: 1.2589 - accuracy: 0.4643 - val_loss: 1.2465 - val_accuracy: 0.4545\n",
      "Epoch 10/30\n",
      "7/7 [==============================] - ETA: 0s - loss: 1.2462 - accuracy: 0.4643WARNING:tensorflow:Can save best model only with val_acc available, skipping.\n",
      "7/7 [==============================] - 17s 2s/step - loss: 1.2462 - accuracy: 0.4643 - val_loss: 1.2430 - val_accuracy: 0.4545\n",
      "Epoch 11/30\n",
      "7/7 [==============================] - ETA: 0s - loss: 1.2392 - accuracy: 0.4643WARNING:tensorflow:Can save best model only with val_acc available, skipping.\n",
      "7/7 [==============================] - 18s 3s/step - loss: 1.2392 - accuracy: 0.4643 - val_loss: 1.2372 - val_accuracy: 0.4545\n",
      "Epoch 12/30\n",
      "7/7 [==============================] - ETA: 0s - loss: 1.2441 - accuracy: 0.4643WARNING:tensorflow:Can save best model only with val_acc available, skipping.\n",
      "7/7 [==============================] - 18s 2s/step - loss: 1.2441 - accuracy: 0.4643 - val_loss: 1.2501 - val_accuracy: 0.4545\n",
      "Epoch 13/30\n",
      "7/7 [==============================] - ETA: 0s - loss: 1.2542 - accuracy: 0.4643WARNING:tensorflow:Can save best model only with val_acc available, skipping.\n",
      "7/7 [==============================] - 17s 2s/step - loss: 1.2542 - accuracy: 0.4643 - val_loss: 1.2484 - val_accuracy: 0.4545\n",
      "Epoch 14/30\n",
      "7/7 [==============================] - ETA: 0s - loss: 1.2446 - accuracy: 0.4643WARNING:tensorflow:Can save best model only with val_acc available, skipping.\n",
      "7/7 [==============================] - 17s 2s/step - loss: 1.2446 - accuracy: 0.4643 - val_loss: 1.2389 - val_accuracy: 0.4545\n",
      "Epoch 15/30\n",
      "7/7 [==============================] - ETA: 0s - loss: 1.2380 - accuracy: 0.4643WARNING:tensorflow:Can save best model only with val_acc available, skipping.\n",
      "7/7 [==============================] - 17s 2s/step - loss: 1.2380 - accuracy: 0.4643 - val_loss: 1.2482 - val_accuracy: 0.4545\n",
      "Epoch 16/30\n",
      "7/7 [==============================] - ETA: 0s - loss: 1.2442 - accuracy: 0.4643WARNING:tensorflow:Can save best model only with val_acc available, skipping.\n",
      "7/7 [==============================] - 17s 2s/step - loss: 1.2442 - accuracy: 0.4643 - val_loss: 1.2419 - val_accuracy: 0.4545\n",
      "Epoch 17/30\n",
      "7/7 [==============================] - ETA: 0s - loss: 1.2322 - accuracy: 0.4643WARNING:tensorflow:Can save best model only with val_acc available, skipping.\n",
      "7/7 [==============================] - 17s 2s/step - loss: 1.2322 - accuracy: 0.4643 - val_loss: 1.2080 - val_accuracy: 0.4545\n",
      "Epoch 18/30\n",
      "7/7 [==============================] - ETA: 0s - loss: 1.2345 - accuracy: 0.4643WARNING:tensorflow:Can save best model only with val_acc available, skipping.\n",
      "7/7 [==============================] - 20s 3s/step - loss: 1.2345 - accuracy: 0.4643 - val_loss: 1.1939 - val_accuracy: 0.4545\n",
      "Epoch 19/30\n",
      "7/7 [==============================] - ETA: 0s - loss: 1.2491 - accuracy: 0.4643WARNING:tensorflow:Can save best model only with val_acc available, skipping.\n",
      "7/7 [==============================] - 27s 3s/step - loss: 1.2491 - accuracy: 0.4643 - val_loss: 1.2184 - val_accuracy: 0.4545\n",
      "Epoch 20/30\n",
      "7/7 [==============================] - ETA: 0s - loss: 1.2114 - accuracy: 0.4643WARNING:tensorflow:Can save best model only with val_acc available, skipping.\n",
      "7/7 [==============================] - 22s 3s/step - loss: 1.2114 - accuracy: 0.4643 - val_loss: 1.2572 - val_accuracy: 0.4545\n",
      "Epoch 21/30\n",
      "7/7 [==============================] - ETA: 0s - loss: 1.2610 - accuracy: 0.4643WARNING:tensorflow:Can save best model only with val_acc available, skipping.\n",
      "7/7 [==============================] - 17s 2s/step - loss: 1.2610 - accuracy: 0.4643 - val_loss: 1.2611 - val_accuracy: 0.4545\n",
      "Epoch 22/30\n",
      "7/7 [==============================] - ETA: 0s - loss: 1.2422 - accuracy: 0.4643WARNING:tensorflow:Can save best model only with val_acc available, skipping.\n",
      "7/7 [==============================] - 17s 2s/step - loss: 1.2422 - accuracy: 0.4643 - val_loss: 1.2290 - val_accuracy: 0.4545\n",
      "Epoch 23/30\n",
      "7/7 [==============================] - ETA: 0s - loss: 1.2246 - accuracy: 0.4643WARNING:tensorflow:Can save best model only with val_acc available, skipping.\n",
      "7/7 [==============================] - 18s 2s/step - loss: 1.2246 - accuracy: 0.4643 - val_loss: 1.2394 - val_accuracy: 0.4545\n",
      "Epoch 24/30\n",
      "7/7 [==============================] - ETA: 0s - loss: 1.2438 - accuracy: 0.4643WARNING:tensorflow:Can save best model only with val_acc available, skipping.\n",
      "7/7 [==============================] - 17s 2s/step - loss: 1.2438 - accuracy: 0.4643 - val_loss: 1.2657 - val_accuracy: 0.4545\n",
      "Epoch 25/30\n",
      "7/7 [==============================] - ETA: 0s - loss: 1.2769 - accuracy: 0.4643WARNING:tensorflow:Can save best model only with val_acc available, skipping.\n",
      "7/7 [==============================] - 18s 2s/step - loss: 1.2769 - accuracy: 0.4643 - val_loss: 1.2816 - val_accuracy: 0.4545\n",
      "Epoch 26/30\n",
      "7/7 [==============================] - ETA: 0s - loss: 1.2715 - accuracy: 0.4643WARNING:tensorflow:Can save best model only with val_acc available, skipping.\n",
      "7/7 [==============================] - 19s 3s/step - loss: 1.2715 - accuracy: 0.4643 - val_loss: 1.2605 - val_accuracy: 0.4545\n",
      "Epoch 27/30\n",
      "7/7 [==============================] - ETA: 0s - loss: 1.2478 - accuracy: 0.4643WARNING:tensorflow:Can save best model only with val_acc available, skipping.\n",
      "7/7 [==============================] - 17s 2s/step - loss: 1.2478 - accuracy: 0.4643 - val_loss: 1.2512 - val_accuracy: 0.4545\n",
      "Epoch 28/30\n",
      "7/7 [==============================] - ETA: 0s - loss: 1.2643 - accuracy: 0.4643WARNING:tensorflow:Can save best model only with val_acc available, skipping.\n",
      "7/7 [==============================] - 17s 2s/step - loss: 1.2643 - accuracy: 0.4643 - val_loss: 1.2528 - val_accuracy: 0.4545\n",
      "Epoch 29/30\n",
      "7/7 [==============================] - ETA: 0s - loss: 1.2471 - accuracy: 0.4643WARNING:tensorflow:Can save best model only with val_acc available, skipping.\n",
      "7/7 [==============================] - 18s 3s/step - loss: 1.2471 - accuracy: 0.4643 - val_loss: 1.2515 - val_accuracy: 0.4545\n",
      "Epoch 30/30\n",
      "7/7 [==============================] - ETA: 0s - loss: 1.2493 - accuracy: 0.4643WARNING:tensorflow:Can save best model only with val_acc available, skipping.\n",
      "7/7 [==============================] - 21s 3s/step - loss: 1.2493 - accuracy: 0.4643 - val_loss: 1.2501 - val_accuracy: 0.4545\n"
     ]
    }
   ],
   "source": [
    "history = model.fit_generator(train_generator,\n",
    "                                epochs=30,\n",
    "                                verbose=1,\n",
    "                                validation_data=validation_generator,\n",
    "                                callbacks=[best_model])"
   ]
  },
  {
   "cell_type": "code",
   "execution_count": 50,
   "metadata": {},
   "outputs": [
    {
     "data": {
      "image/png": "[encoded data removed]",
      "text/plain": [
       "<Figure size 1008x504 with 1 Axes>"
      ]
     },
     "metadata": {
      "needs_background": "light"
     },
     "output_type": "display_data"
    }
   ],
   "source": [
    "acc = history.history['accuracy']\n",
    "val_acc = history.history['val_accuracy']\n",
    "loss = history.history['loss']\n",
    "val_loss = history.history['val_loss']\n",
    "\n",
    "epochs = range(len(acc))\n",
    "\n",
    "fig = plt.figure(figsize=(14, 7))\n",
    "plt.plot(epochs, acc, 'r', label='Training accuracy')\n",
    "plt.plot(epochs, val_acc, 'b', label='Validation accuracy')\n",
    "plt.xlabel('Epochs')\n",
    "plt.ylabel('Accuracy')\n",
    "plt.title('Training and validation accuracy')\n",
    "plt.legend(loc='lower right')\n",
    "plt.show()"
   ]
  },
  {
   "cell_type": "code",
   "execution_count": 51,
   "metadata": {},
   "outputs": [
    {
     "data": {
      "image/png": "[encoded data removed]",
      "text/plain": [
       "<Figure size 1008x504 with 1 Axes>"
      ]
     },
     "metadata": {
      "needs_background": "light"
     },
     "output_type": "display_data"
    }
   ],
   "source": [
    "fig2 = plt.figure(figsize=(14, 7))\n",
    "plt.plot(epochs, loss, 'r', label='Training Loss')\n",
    "plt.plot(epochs, val_loss, 'b', label='Validation Loss')\n",
    "plt.xlabel('Epochs')\n",
    "plt.ylabel('Loss')\n",
    "plt.title('Training and validation loss')\n",
    "plt.legend(loc='upper right')\n",
    "plt.show()"
   ]
  },
  {
   "cell_type": "code",
   "execution_count": null,
   "metadata": {},
   "outputs": [],
   "source": []
  }
 ],
 "metadata": {
  "kernelspec": {
   "display_name": "Python 3.10.4 64-bit",
   "language": "python",
   "name": "python3"
  },
  "language_info": {
   "codemirror_mode": {
    "name": "ipython",
    "version": 3
   },
   "file_extension": ".py",
   "mimetype": "text/x-python",
   "name": "python",
   "nbconvert_exporter": "python",
   "pygments_lexer": "ipython3",
   "version": "3.10.4"
  },
  "orig_nbformat": 4,
  "vscode": {
   "interpreter": {
    "hash": "369f2c481f4da34e4445cda3fffd2e751bd1c4d706f27375911949ba6bb62e1c"
   }
  }
 },
 "nbformat": 4,
 "nbformat_minor": 2
}
