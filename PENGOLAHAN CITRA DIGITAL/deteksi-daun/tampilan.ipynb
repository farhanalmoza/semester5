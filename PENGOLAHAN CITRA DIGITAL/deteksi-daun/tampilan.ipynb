{
 "cells": [
  {
   "cell_type": "code",
   "execution_count": 1,
   "metadata": {},
   "outputs": [],
   "source": [
    "# import libraries\n",
    "from tkinter import *"
   ]
  },
  {
   "cell_type": "code",
   "execution_count": 42,
   "metadata": {},
   "outputs": [],
   "source": [
    "root = Tk()\n",
    "root.title(\"Deteksi Daun\")\n",
    "root.geometry(\"500x300\")\n",
    "\n",
    "def my_click():\n",
    "    myLabel = Label(root, text=\"Hello \", fg = \"blue\", bg = \"yellow\")\n",
    "    myLabel.pack()\n",
    "\n",
    "myButton = Button(root, text=\"Enter Your Name\", command=my_click, fg=\"blue\", bg=\"red\")\n",
    "myButton.pack()\n",
    "\n",
    "root.mainloop()"
   ]
  },
  {
   "cell_type": "code",
   "execution_count": 39,
   "metadata": {},
   "outputs": [],
   "source": [
    "loadNet = Button(root, text=\"Load Net\", padx=10, pady=5, fg=\"white\", bg=\"#263D42\")\n",
    "loadCitra = Button(root, text=\"Load Citra\", padx=10, pady=5, fg=\"white\", bg=\"#263D42\")\n",
    "grayscale = Button(root, text=\"Grayscale\", padx=10, pady=5, fg=\"white\", bg=\"#263D42\")\n",
    "identifikasi = Button(root, text=\"Identifikasi\", padx=10, pady=5, fg=\"white\", bg=\"#263D42\")\n",
    "reset = Button(root, text=\"Reset\", padx=10, pady=5, fg=\"white\", bg=\"#263D42\")\n",
    "\n",
    "loadNet.grid(row=0, column=0, padx=5, pady=5)\n",
    "loadCitra.grid(row=1, column=0, padx=5, pady=5)\n",
    "grayscale.grid(row=2, column=0, padx=5, pady=5)\n",
    "identifikasi.grid(row=3, column=0, padx=5, pady=5)\n",
    "reset.grid(row=4, column=0, padx=5, pady=5)\n",
    "\n",
    "root.mainloop()"
   ]
  },
  {
   "cell_type": "code",
   "execution_count": 4,
   "metadata": {},
   "outputs": [],
   "source": [
    "# Open file directory\n",
    "from tkinter import filedialog\n",
    "from PIL import ImageTk, Image\n",
    "\n",
    "root = Tk()\n",
    "root.title(\"Deteksi Daun\")\n",
    "root.geometry(\"500x300\")\n",
    "\n",
    "def files():\n",
    "    root.filname = filedialog.askopenfilename(initialdir='D:/UPN/Semester/semester5', title=\"Select A File\", filetypes=((\"jpg files\", \"*.jpg\"), (\"all files\", \"*.*\")))\n",
    "    my_label = Label(root, text=root.filname).pack()\n",
    "    my_image = ImageTk.PhotoImage(Image.open(root.filname))\n",
    "    my_image_label = Label(image=my_image)\n",
    "    my_image_label.image = my_image\n",
    "    my_image_label.pack()\n",
    "\n",
    "\n",
    "b1 = Button(root, text=\"Open File\", command=files).pack()\n",
    "my_label = Label(root, text=\"ALL DONE!\").pack()\n",
    "\n",
    "root.mainloop()"
   ]
  },
  {
   "cell_type": "code",
   "execution_count": 5,
   "metadata": {},
   "outputs": [],
   "source": [
    "# Add tkinter\n",
    "from tkinter import filedialog\n",
    "from PIL import ImageTk, Image\n",
    "root = Tk()\n",
    "root.title(\"Deteksi Daun\")\n",
    "root.geometry(\"500x300\")\n",
    "\n",
    "def quite_file():\n",
    "    root.quit()\n",
    "\n",
    "img1 = ImageTk.PhotoImage(Image.open(\"pepaya.jpg\"))\n",
    "label = Label(root, image=img1, height=300, width=500)\n",
    "label.image = img1\n",
    "label.pack()\n",
    "\n",
    "Button_quite = Button(root, text=\"Exit Program\", command=quite_file)\n",
    "Button_quite.pack()\n",
    "\n",
    "root.mainloop()"
   ]
  },
  {
   "cell_type": "code",
   "execution_count": 3,
   "metadata": {},
   "outputs": [
    {
     "name": "stderr",
     "output_type": "stream",
     "text": [
      "C:\\Users\\farhan\\AppData\\Local\\Temp\\ipykernel_4108\\152812990.py:11: DeprecationWarning: ANTIALIAS is deprecated and will be removed in Pillow 10 (2023-07-01). Use Resampling.LANCZOS instead.\n",
      "  resized = img.resize((100, 100), Image.ANTIALIAS)\n"
     ]
    }
   ],
   "source": [
    "from tkinter import filedialog\n",
    "from PIL import ImageTk, Image\n",
    "root = Tk()\n",
    "root.title(\"Deteksi Daun\")\n",
    "root.geometry(\"500x300\")\n",
    "\n",
    "# open image\n",
    "img = Image.open(\"pepaya.jpg\")\n",
    "\n",
    "# resize image\n",
    "resized = img.resize((100, 100), Image.ANTIALIAS)\n",
    "\n",
    "img1 = ImageTk.PhotoImage(resized)\n",
    "label = Label(root, image=img1)\n",
    "label.image = img1\n",
    "label.pack()\n",
    "\n",
    "root.mainloop()"
   ]
  },
  {
   "cell_type": "code",
   "execution_count": 14,
   "metadata": {},
   "outputs": [
    {
     "name": "stderr",
     "output_type": "stream",
     "text": [
      "C:\\Users\\farhan\\AppData\\Local\\Temp\\ipykernel_1360\\164193752.py:64: DeprecationWarning: ANTIALIAS is deprecated and will be removed in Pillow 10 (2023-07-01). Use Resampling.LANCZOS instead.\n",
      "  resized_balnk1 = blank1.resize((150, 150), Image.ANTIALIAS)\n",
      "C:\\Users\\farhan\\AppData\\Local\\Temp\\ipykernel_1360\\164193752.py:73: DeprecationWarning: ANTIALIAS is deprecated and will be removed in Pillow 10 (2023-07-01). Use Resampling.LANCZOS instead.\n",
      "  resized_balnk2 = blank2.resize((150, 150), Image.ANTIALIAS)\n",
      "C:\\Users\\farhan\\AppData\\Local\\Temp\\ipykernel_1360\\164193752.py:24: DeprecationWarning: ANTIALIAS is deprecated and will be removed in Pillow 10 (2023-07-01). Use Resampling.LANCZOS instead.\n",
      "  resized_img1 = ori_image.resize((150, 150), Image.ANTIALIAS)\n",
      "C:\\Users\\farhan\\AppData\\Local\\Temp\\ipykernel_1360\\164193752.py:42: DeprecationWarning: ANTIALIAS is deprecated and will be removed in Pillow 10 (2023-07-01). Use Resampling.LANCZOS instead.\n",
      "  resized_img2 = gray_img.resize((150, 150), Image.ANTIALIAS)\n"
     ]
    }
   ],
   "source": [
    "# import libraries\n",
    "from tkinter import *\n",
    "from tkinter import filedialog\n",
    "from PIL import ImageTk, Image\n",
    "\n",
    "# create root window\n",
    "root = Tk()\n",
    "root.title(\"Deteksi Daun\")\n",
    "root.geometry(\"500x400\")\n",
    "\n",
    "# create fungsi enable button\n",
    "def enable_button():\n",
    "    loadCitra.config(state=NORMAL)\n",
    "    grayscale.config(state=NORMAL)\n",
    "    identifikasi.config(state=NORMAL)\n",
    "\n",
    "# function load citra\n",
    "def load_citra():\n",
    "    root.filname = filedialog.askopenfilename(initialdir='D:/UPN/Semester/semester5', title=\"Select A File\", filetypes=((\"jpg files\", \"*.jpg\"), (\"all files\", \"*.*\")))\n",
    "\n",
    "    # load image\n",
    "    ori_image = Image.open(root.filname)\n",
    "    # resize image\n",
    "    resized_img1 = ori_image.resize((150, 150), Image.ANTIALIAS)\n",
    "    \n",
    "\n",
    "    empt1 = ImageTk.PhotoImage(resized_img1)\n",
    "    empty1 = Label(root, image=empt1)\n",
    "    empty1.image = empt1\n",
    "\n",
    "    # pasangkan gambar\n",
    "    empty1.grid(row=1, column=1, rowspan=3, padx=5)\n",
    "\n",
    "    # get just file name without path\n",
    "    file_name = root.filname.split(\"/\")[-1]\n",
    "    # print file name in input\n",
    "    name.insert(0, file_name)\n",
    "\n",
    "# function grayscale image\n",
    "def grayscale_image():\n",
    "    gray_img = Image.open(root.filname).convert('L')\n",
    "    resized_img2 = gray_img.resize((150, 150), Image.ANTIALIAS)\n",
    "\n",
    "    empt2 = ImageTk.PhotoImage(resized_img2)\n",
    "    empty2 = Label(root, image=empt2)\n",
    "    empty2.image = empt2\n",
    "\n",
    "    # pasangkan gambar\n",
    "    empty2.grid(row=1, column=2, rowspan=3, padx=5)\n",
    "\n",
    "# create menu button\n",
    "loadNet = Button(root, text=\"Load Net\", padx=10, pady=5, fg=\"white\", bg=\"#263D42\", command=enable_button)\n",
    "loadCitra = Button(root, text=\"Load Citra\", padx=10, pady=5, fg=\"white\", bg=\"#263D42\", state=\"disable\", command=load_citra)\n",
    "grayscale = Button(root, text=\"Grayscale\", padx=10, pady=5, fg=\"white\", bg=\"#263D42\", state=\"disable\", command=grayscale_image)\n",
    "identifikasi = Button(root, text=\"Identifikasi\", padx=10, pady=5, fg=\"white\", bg=\"#263D42\", state=\"disable\")\n",
    "reset = Button(root, text=\"Reset\", padx=10, pady=5, fg=\"white\", bg=\"#263D42\")\n",
    "\n",
    "name = Entry(root, width=15)\n",
    "result = Entry(root, width=15)\n",
    "\n",
    "# image for empty\n",
    "blank1 = Image.open(\"empty.jpg\")\n",
    "# resize image\n",
    "resized_balnk1 = blank1.resize((150, 150), Image.ANTIALIAS)\n",
    "\n",
    "empt1 = ImageTk.PhotoImage(resized_balnk1)\n",
    "empty1 = Label(root, image=empt1)\n",
    "empty1.image = empt1\n",
    "\n",
    "# image for empty\n",
    "blank2 = Image.open(\"empty2.jpg\")\n",
    "# resize image\n",
    "resized_balnk2 = blank2.resize((150, 150), Image.ANTIALIAS)\n",
    "\n",
    "empt2 = ImageTk.PhotoImage(resized_balnk2)\n",
    "empty2 = Label(root, image=empt2)\n",
    "empty2.image = empt2\n",
    "\n",
    "loadNet.grid(row=0, column=0, padx=5, pady=5)\n",
    "loadCitra.grid(row=1, column=0, padx=5, pady=5)\n",
    "name.grid(row=2, column=0, padx=5, pady=5)\n",
    "grayscale.grid(row=3, column=0, padx=5, pady=5)\n",
    "identifikasi.grid(row=4, column=0, padx=5, pady=5)\n",
    "result.grid(row=5, column=0, padx=5, pady=5)\n",
    "reset.grid(row=6, column=0, padx=5, pady=5)\n",
    "\n",
    "empty1.grid(row=1, column=1, rowspan=3, padx=5)\n",
    "empty2.grid(row=1, column=2, rowspan=3, padx=5)\n",
    "\n",
    "root.mainloop()"
   ]
  },
  {
   "cell_type": "code",
   "execution_count": 6,
   "metadata": {},
   "outputs": [],
   "source": [
    "# import libraries\n",
    "from tkinter import *\n",
    "from tkinter import filedialog\n",
    "from PIL import ImageTk, Image\n",
    "\n",
    "# create root window\n",
    "root = Tk()\n",
    "root.title(\"Deteksi Daun\")\n",
    "root.geometry(\"500x300\")\n",
    "\n",
    "e = Entry(root, width=50)\n",
    "e.pack()\n",
    "e.insert(0, \"Enter your name: \")\n",
    "\n",
    "root.mainloop()"
   ]
  }
 ],
 "metadata": {
  "kernelspec": {
   "display_name": "Python 3.10.4 64-bit",
   "language": "python",
   "name": "python3"
  },
  "language_info": {
   "codemirror_mode": {
    "name": "ipython",
    "version": 3
   },
   "file_extension": ".py",
   "mimetype": "text/x-python",
   "name": "python",
   "nbconvert_exporter": "python",
   "pygments_lexer": "ipython3",
   "version": "3.10.4"
  },
  "orig_nbformat": 4,
  "vscode": {
   "interpreter": {
    "hash": "369f2c481f4da34e4445cda3fffd2e751bd1c4d706f27375911949ba6bb62e1c"
   }
  }
 },
 "nbformat": 4,
 "nbformat_minor": 2
}
