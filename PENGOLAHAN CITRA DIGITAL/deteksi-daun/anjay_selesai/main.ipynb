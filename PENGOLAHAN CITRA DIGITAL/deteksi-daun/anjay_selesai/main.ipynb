{
 "cells": [
  {
   "cell_type": "code",
   "execution_count": 1,
   "metadata": {},
   "outputs": [],
   "source": [
    "# import libraries\n",
    "from keras import utils\n",
    "from keras.models import load_model\n",
    "import numpy as np"
   ]
  },
  {
   "cell_type": "markdown",
   "metadata": {},
   "source": [
    "# DEKLARASI FUNGSI"
   ]
  },
  {
   "cell_type": "code",
   "execution_count": 2,
   "metadata": {},
   "outputs": [],
   "source": [
    "# create fungsi enable button\n",
    "def enable_button():\n",
    "    loadCitra.config(state=NORMAL)\n",
    "    grayscale.config(state=NORMAL)\n",
    "    identifikasi.config(state=NORMAL)\n",
    "\n",
    "# function load citra\n",
    "def load_citra():\n",
    "    root.filname = filedialog.askopenfilename(initialdir='D:/UPN/Semester/semester5', title=\"Select A File\", filetypes=((\"jpg files\", \"*.jpg\"), (\"all files\", \"*.*\")))\n",
    "\n",
    "    # load image\n",
    "    ori_image = Image.open(root.filname)\n",
    "    # resize image\n",
    "    resized_img1 = ori_image.resize((150, 150), Image.ANTIALIAS)\n",
    "    \n",
    "\n",
    "    empt1 = ImageTk.PhotoImage(resized_img1)\n",
    "    empty1 = Label(root, image=empt1)\n",
    "    empty1.image = empt1\n",
    "\n",
    "    # pasangkan gambar\n",
    "    empty1.grid(row=1, column=1, rowspan=3, padx=5)\n",
    "\n",
    "    # get just file name without path\n",
    "    file_name = root.filname.split(\"/\")[-1]\n",
    "    # print file name in input\n",
    "    name.insert(0, file_name)\n",
    "\n",
    "# function grayscale image\n",
    "def grayscale_image():\n",
    "    gray_img = Image.open(root.filname).convert('L')\n",
    "    resized_img2 = gray_img.resize((150, 150), Image.ANTIALIAS)\n",
    "\n",
    "    empt2 = ImageTk.PhotoImage(resized_img2)\n",
    "    empty2 = Label(root, image=empt2)\n",
    "    empty2.image = empt2\n",
    "\n",
    "    # pasangkan gambar\n",
    "    empty2.grid(row=1, column=2, rowspan=3, padx=5)\n",
    "\n",
    "# function identifikasi\n",
    "def identif():\n",
    "    # load model\n",
    "    model = load_model(\"best_model.h5\")\n",
    "    \n",
    "    # load image\n",
    "    # img = Image.open(root.filname).convert('L')\n",
    "    # resize image\n",
    "    img = utils.load_img(root.filname, target_size=(256, 256))\n",
    "\n",
    "    x = utils.img_to_array(img)\n",
    "    x = np.expand_dims(x, axis=0)\n",
    "    images = np.vstack([x])\n",
    "    classes = model.predict(images, batch_size=10)\n",
    "    class_pred = np.argmax(classes, axis=1)\n",
    "    \n",
    "    # get class name\n",
    "    if class_pred == 0:\n",
    "        class_name = \"Daun ganja\"\n",
    "    elif class_pred == 1:\n",
    "        class_name = \"Daun pepaya\"\n",
    "    else:\n",
    "        class_name = \"Daun singkong\"\n",
    "\n",
    "    # print class name in input\n",
    "    result.insert(0, class_name)\n",
    "\n",
    "# buat fungsi reset\n",
    "# fungsi ini digunakan untuk menghapus semua hasil dari load citra\n",
    "def reset():\n",
    "    # hapus semua hasil dari load citra\n",
    "    empty1 = Label(root, image=empt1)\n",
    "    empty1.image = empt1\n",
    "    \n",
    "    empty2 = Label(root, image=empt2)\n",
    "    empty2.image = empt2\n",
    "\n",
    "    empty1.grid(row=1, column=1, rowspan=3, padx=5)\n",
    "    empty2.grid(row=1, column=2, rowspan=3, padx=5)\n",
    "\n",
    "    name.delete(0, END)\n",
    "    result.delete(0, END)"
   ]
  },
  {
   "cell_type": "markdown",
   "metadata": {},
   "source": [
    "# TAMPILAN"
   ]
  },
  {
   "cell_type": "code",
   "execution_count": 3,
   "metadata": {},
   "outputs": [
    {
     "name": "stderr",
     "output_type": "stream",
     "text": [
      "C:\\Users\\farhan\\AppData\\Local\\Temp\\ipykernel_16124\\2962272852.py:25: DeprecationWarning: ANTIALIAS is deprecated and will be removed in Pillow 10 (2023-07-01). Use Resampling.LANCZOS instead.\n",
      "  resized_balnk1 = blank1.resize((150, 150), Image.ANTIALIAS)\n",
      "C:\\Users\\farhan\\AppData\\Local\\Temp\\ipykernel_16124\\2962272852.py:34: DeprecationWarning: ANTIALIAS is deprecated and will be removed in Pillow 10 (2023-07-01). Use Resampling.LANCZOS instead.\n",
      "  resized_balnk2 = blank2.resize((150, 150), Image.ANTIALIAS)\n",
      "C:\\Users\\farhan\\AppData\\Local\\Temp\\ipykernel_16124\\1234231656.py:14: DeprecationWarning: ANTIALIAS is deprecated and will be removed in Pillow 10 (2023-07-01). Use Resampling.LANCZOS instead.\n",
      "  resized_img1 = ori_image.resize((150, 150), Image.ANTIALIAS)\n",
      "C:\\Users\\farhan\\AppData\\Local\\Temp\\ipykernel_16124\\1234231656.py:32: DeprecationWarning: ANTIALIAS is deprecated and will be removed in Pillow 10 (2023-07-01). Use Resampling.LANCZOS instead.\n",
      "  resized_img2 = gray_img.resize((150, 150), Image.ANTIALIAS)\n"
     ]
    },
    {
     "name": "stdout",
     "output_type": "stream",
     "text": [
      "1/1 [==============================] - 1s 659ms/step\n"
     ]
    }
   ],
   "source": [
    "# import libraries\n",
    "from tkinter import *\n",
    "from tkinter import filedialog\n",
    "from PIL import ImageTk, Image\n",
    "\n",
    "# create root window\n",
    "root = Tk()\n",
    "root.title(\"Deteksi Daun\")\n",
    "root.geometry(\"500x400\")\n",
    "\n",
    "\n",
    "# create menu button\n",
    "loadNet = Button(root, text=\"Load Net\", padx=10, pady=5, fg=\"white\", bg=\"#263D42\", command=enable_button)\n",
    "loadCitra = Button(root, text=\"Load Citra\", padx=10, pady=5, fg=\"white\", bg=\"#263D42\", state=\"disable\", command=load_citra)\n",
    "grayscale = Button(root, text=\"Grayscale\", padx=10, pady=5, fg=\"white\", bg=\"#263D42\", state=\"disable\", command=grayscale_image)\n",
    "identifikasi = Button(root, text=\"Identifikasi\", padx=10, pady=5, fg=\"white\", bg=\"#263D42\", state=\"disable\", command=identif)\n",
    "reset = Button(root, text=\"Reset\", padx=10, pady=5, fg=\"white\", bg=\"#263D42\", command=reset)\n",
    "\n",
    "name = Entry(root, width=15)\n",
    "result = Entry(root, width=15)\n",
    "\n",
    "# image for empty\n",
    "blank1 = Image.open(\"empty.jpg\")\n",
    "# resize image\n",
    "resized_balnk1 = blank1.resize((150, 150), Image.ANTIALIAS)\n",
    "\n",
    "empt1 = ImageTk.PhotoImage(resized_balnk1)\n",
    "empty1 = Label(root, image=empt1)\n",
    "empty1.image = empt1\n",
    "\n",
    "# image for empty\n",
    "blank2 = Image.open(\"empty2.jpg\")\n",
    "# resize image\n",
    "resized_balnk2 = blank2.resize((150, 150), Image.ANTIALIAS)\n",
    "\n",
    "empt2 = ImageTk.PhotoImage(resized_balnk2)\n",
    "empty2 = Label(root, image=empt2)\n",
    "empty2.image = empt2\n",
    "\n",
    "loadNet.grid(row=0, column=0, padx=5, pady=5)\n",
    "loadCitra.grid(row=1, column=0, padx=5, pady=5)\n",
    "name.grid(row=2, column=0, padx=5, pady=5)\n",
    "grayscale.grid(row=3, column=0, padx=5, pady=5)\n",
    "identifikasi.grid(row=4, column=0, padx=5, pady=5)\n",
    "result.grid(row=5, column=0, padx=5, pady=5)\n",
    "reset.grid(row=6, column=0, padx=5, pady=5)\n",
    "\n",
    "empty1.grid(row=1, column=1, rowspan=3, padx=5)\n",
    "empty2.grid(row=1, column=2, rowspan=3, padx=5)\n",
    "\n",
    "root.mainloop()"
   ]
  },
  {
   "cell_type": "code",
   "execution_count": null,
   "metadata": {},
   "outputs": [],
   "source": []
  }
 ],
 "metadata": {
  "kernelspec": {
   "display_name": "Python 3.10.4 64-bit",
   "language": "python",
   "name": "python3"
  },
  "language_info": {
   "codemirror_mode": {
    "name": "ipython",
    "version": 3
   },
   "file_extension": ".py",
   "mimetype": "text/x-python",
   "name": "python",
   "nbconvert_exporter": "python",
   "pygments_lexer": "ipython3",
   "version": "3.10.4"
  },
  "orig_nbformat": 4,
  "vscode": {
   "interpreter": {
    "hash": "369f2c481f4da34e4445cda3fffd2e751bd1c4d706f27375911949ba6bb62e1c"
   }
  }
 },
 "nbformat": 4,
 "nbformat_minor": 2
}
